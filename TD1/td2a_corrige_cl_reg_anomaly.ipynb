{
 "cells": [
  {
   "cell_type": "markdown",
   "metadata": {},
   "source": [
    "# 2A.data - Classification, régression, anomalies - corrigé - Gabriel ROMON\n",
    "\n",
    "Le jeu de données [Wine Quality Data Set](https://archive.ics.uci.edu/ml/datasets/Wine+Quality) contient 5000 vins décrits par leurs caractéristiques chimiques et évalués par un expert. Peut-on s'approcher de l'expert à l'aide d'un modèle de machine learning ?"
   ]
  },
  {
   "cell_type": "code",
   "execution_count": 1,
   "metadata": {},
   "outputs": [],
   "source": [
    "%matplotlib inline\n",
    "import matplotlib.pyplot as plt\n",
    "import pandas as pd\n",
    "import numpy as np"
   ]
  },
  {
   "cell_type": "markdown",
   "metadata": {},
   "source": [
    "## Les données\n",
    "\n",
    "Le fichier .csv est à [cette adresse](https://raw.githubusercontent.com/sdpython/ensae_teaching_cs/master/src/ensae_teaching_cs/data/data_2a/wines-quality.csv).\n",
    "\n",
    "On peut le télécharger directement depuis le notebook (il sera stocké dans le dossier où se trouve le notebook)."
   ]
  },
  {
   "cell_type": "code",
   "execution_count": 2,
   "metadata": {},
   "outputs": [
    {
     "data": {
      "text/plain": [
       "('./wines-quality.csv', <http.client.HTTPMessage at 0x291d17bfb00>)"
      ]
     },
     "execution_count": 2,
     "metadata": {},
     "output_type": "execute_result"
    }
   ],
   "source": [
    "import urllib.request\n",
    "\n",
    "url = 'https://raw.githubusercontent.com/sdpython/ensae_teaching_cs/master/src/ensae_teaching_cs/data/data_2a/wines-quality.csv'\n",
    "urllib.request.urlretrieve(url, './wines-quality.csv')"
   ]
  },
  {
   "cell_type": "markdown",
   "metadata": {},
   "source": [
    "On ouvre le fichier avec `pandas`:"
   ]
  },
  {
   "cell_type": "code",
   "execution_count": 3,
   "metadata": {},
   "outputs": [
    {
     "data": {
      "text/html": [
       "<div>\n",
       "<style scoped>\n",
       "    .dataframe tbody tr th:only-of-type {\n",
       "        vertical-align: middle;\n",
       "    }\n",
       "\n",
       "    .dataframe tbody tr th {\n",
       "        vertical-align: top;\n",
       "    }\n",
       "\n",
       "    .dataframe thead th {\n",
       "        text-align: right;\n",
       "    }\n",
       "</style>\n",
       "<table border=\"1\" class=\"dataframe\">\n",
       "  <thead>\n",
       "    <tr style=\"text-align: right;\">\n",
       "      <th></th>\n",
       "      <th>fixed_acidity</th>\n",
       "      <th>volatile_acidity</th>\n",
       "      <th>citric_acid</th>\n",
       "      <th>residual_sugar</th>\n",
       "      <th>chlorides</th>\n",
       "      <th>free_sulfur_dioxide</th>\n",
       "      <th>total_sulfur_dioxide</th>\n",
       "      <th>density</th>\n",
       "      <th>pH</th>\n",
       "      <th>sulphates</th>\n",
       "      <th>alcohol</th>\n",
       "      <th>quality</th>\n",
       "      <th>color</th>\n",
       "    </tr>\n",
       "  </thead>\n",
       "  <tbody>\n",
       "    <tr>\n",
       "      <th>0</th>\n",
       "      <td>7.4</td>\n",
       "      <td>0.70</td>\n",
       "      <td>0.00</td>\n",
       "      <td>1.9</td>\n",
       "      <td>0.076</td>\n",
       "      <td>11.0</td>\n",
       "      <td>34.0</td>\n",
       "      <td>0.9978</td>\n",
       "      <td>3.51</td>\n",
       "      <td>0.56</td>\n",
       "      <td>9.4</td>\n",
       "      <td>5</td>\n",
       "      <td>red</td>\n",
       "    </tr>\n",
       "    <tr>\n",
       "      <th>1</th>\n",
       "      <td>7.8</td>\n",
       "      <td>0.88</td>\n",
       "      <td>0.00</td>\n",
       "      <td>2.6</td>\n",
       "      <td>0.098</td>\n",
       "      <td>25.0</td>\n",
       "      <td>67.0</td>\n",
       "      <td>0.9968</td>\n",
       "      <td>3.20</td>\n",
       "      <td>0.68</td>\n",
       "      <td>9.8</td>\n",
       "      <td>5</td>\n",
       "      <td>red</td>\n",
       "    </tr>\n",
       "    <tr>\n",
       "      <th>2</th>\n",
       "      <td>7.8</td>\n",
       "      <td>0.76</td>\n",
       "      <td>0.04</td>\n",
       "      <td>2.3</td>\n",
       "      <td>0.092</td>\n",
       "      <td>15.0</td>\n",
       "      <td>54.0</td>\n",
       "      <td>0.9970</td>\n",
       "      <td>3.26</td>\n",
       "      <td>0.65</td>\n",
       "      <td>9.8</td>\n",
       "      <td>5</td>\n",
       "      <td>red</td>\n",
       "    </tr>\n",
       "    <tr>\n",
       "      <th>3</th>\n",
       "      <td>11.2</td>\n",
       "      <td>0.28</td>\n",
       "      <td>0.56</td>\n",
       "      <td>1.9</td>\n",
       "      <td>0.075</td>\n",
       "      <td>17.0</td>\n",
       "      <td>60.0</td>\n",
       "      <td>0.9980</td>\n",
       "      <td>3.16</td>\n",
       "      <td>0.58</td>\n",
       "      <td>9.8</td>\n",
       "      <td>6</td>\n",
       "      <td>red</td>\n",
       "    </tr>\n",
       "    <tr>\n",
       "      <th>4</th>\n",
       "      <td>7.4</td>\n",
       "      <td>0.70</td>\n",
       "      <td>0.00</td>\n",
       "      <td>1.9</td>\n",
       "      <td>0.076</td>\n",
       "      <td>11.0</td>\n",
       "      <td>34.0</td>\n",
       "      <td>0.9978</td>\n",
       "      <td>3.51</td>\n",
       "      <td>0.56</td>\n",
       "      <td>9.4</td>\n",
       "      <td>5</td>\n",
       "      <td>red</td>\n",
       "    </tr>\n",
       "  </tbody>\n",
       "</table>\n",
       "</div>"
      ],
      "text/plain": [
       "   fixed_acidity  volatile_acidity  citric_acid  residual_sugar  chlorides  \\\n",
       "0            7.4              0.70         0.00             1.9      0.076   \n",
       "1            7.8              0.88         0.00             2.6      0.098   \n",
       "2            7.8              0.76         0.04             2.3      0.092   \n",
       "3           11.2              0.28         0.56             1.9      0.075   \n",
       "4            7.4              0.70         0.00             1.9      0.076   \n",
       "\n",
       "   free_sulfur_dioxide  total_sulfur_dioxide  density    pH  sulphates  \\\n",
       "0                 11.0                  34.0   0.9978  3.51       0.56   \n",
       "1                 25.0                  67.0   0.9968  3.20       0.68   \n",
       "2                 15.0                  54.0   0.9970  3.26       0.65   \n",
       "3                 17.0                  60.0   0.9980  3.16       0.58   \n",
       "4                 11.0                  34.0   0.9978  3.51       0.56   \n",
       "\n",
       "   alcohol  quality color  \n",
       "0      9.4        5   red  \n",
       "1      9.8        5   red  \n",
       "2      9.8        5   red  \n",
       "3      9.8        6   red  \n",
       "4      9.4        5   red  "
      ]
     },
     "execution_count": 3,
     "metadata": {},
     "output_type": "execute_result"
    }
   ],
   "source": [
    "df = pd.read_csv('./wines-quality.csv')  #crée un DataFrame contenant les données\n",
    "df.head()  #affiche les 5 premières lignes du DataFrame"
   ]
  },
  {
   "cell_type": "markdown",
   "metadata": {},
   "source": [
    "## Exercice 1 : afficher la distribution des notes\n"
   ]
  },
  {
   "cell_type": "code",
   "execution_count": 14,
   "metadata": {},
   "outputs": [
    {
     "data": {
      "text/plain": [
       "[3, 4, 5, 6, 7, 8, 9]"
      ]
     },
     "execution_count": 14,
     "metadata": {},
     "output_type": "execute_result"
    }
   ],
   "source": [
    "sorted(df['quality'].unique())"
   ]
  },
  {
   "cell_type": "code",
   "execution_count": 15,
   "metadata": {},
   "outputs": [
    {
     "data": {
      "image/png": "[encoded data removed]",
      "text/plain": [
       "<Figure size 432x288 with 1 Axes>"
      ]
     },
     "metadata": {
      "needs_background": "light"
     },
     "output_type": "display_data"
    }
   ],
   "source": [
    "hist = df.hist(column='quality', bins=range(3,11), ec='black', align='left', rwidth=0.5)"
   ]
  },
  {
   "cell_type": "markdown",
   "metadata": {},
   "source": [
    "J'explicite les paramètres `bins=range(3,11)` et `align='left'` pour des raisons purement esthétiques (essayez sans).\n",
    "\n",
    "Si `bins=[x_0,...,x_n]`, l'histogramme crée les bins `[x_0,x_1[`,..., `[x_(n-2),x_(n-1)[`, `[x_(n-1),x_n]`. Comme dans le dernier bin la borne de droite est incluse, il faut spécifier `bins=range(3,11)` et pas `bins=range(3,10)`.\n",
    "\n",
    "***\n",
    "\n",
    "On observe que la distribution des notes est approximativement gaussienne. Elle n'est pas uniforme (pas équilibrée), on est donc dans un cas de *unbalanced classification*."
   ]
  },
  {
   "cell_type": "markdown",
   "metadata": {},
   "source": [
    "## Exercice 2 : séparation train / test\n"
   ]
  },
  {
   "cell_type": "code",
   "execution_count": 21,
   "metadata": {},
   "outputs": [],
   "source": [
    "from sklearn.model_selection import train_test_split\n",
    "\n",
    "X_train, X_test, y_train, y_test = train_test_split(df.drop('quality', axis=1), df['quality'],\n",
    "                                                    test_size=0.33, random_state=42)"
   ]
  },
  {
   "cell_type": "markdown",
   "metadata": {},
   "source": [
    "L'argument `test_size=0.33` signifie que le test set contient 33% des lignes du jeu de départ."
   ]
  },
  {
   "cell_type": "markdown",
   "metadata": {},
   "source": [
    "## Exercice 3 : la variable couleur n'est pas numérique"
   ]
  },
  {
   "cell_type": "markdown",
   "metadata": {},
   "source": [
    "Il est plus simple et naturel de convertir la variable catégorielle en variable binaire avec `pandas` plutôt que d'utiliser le OneHotEncoder de `sklearn`."
   ]
  },
  {
   "cell_type": "code",
   "execution_count": 22,
   "metadata": {},
   "outputs": [
    {
     "data": {
      "text/plain": [
       "array(['red', 'white'], dtype=object)"
      ]
     },
     "execution_count": 22,
     "metadata": {},
     "output_type": "execute_result"
    }
   ],
   "source": [
    "df['color'].unique()"
   ]
  },
  {
   "cell_type": "code",
   "execution_count": 23,
   "metadata": {},
   "outputs": [
    {
     "data": {
      "text/plain": [
       "fixed_acidity           float64\n",
       "volatile_acidity        float64\n",
       "citric_acid             float64\n",
       "residual_sugar          float64\n",
       "chlorides               float64\n",
       "free_sulfur_dioxide     float64\n",
       "total_sulfur_dioxide    float64\n",
       "density                 float64\n",
       "pH                      float64\n",
       "sulphates               float64\n",
       "alcohol                 float64\n",
       "color                    object\n",
       "dtype: object"
      ]
     },
     "execution_count": 23,
     "metadata": {},
     "output_type": "execute_result"
    }
   ],
   "source": [
    "X_train.dtypes"
   ]
  },
  {
   "cell_type": "markdown",
   "metadata": {},
   "source": [
    "On remarque que la variable `color` a le type générique `object`. C'est parce que ses valeurs sont les chaînes de caractères `\"red\"` et `\"white\"`."
   ]
  },
  {
   "cell_type": "code",
   "execution_count": 24,
   "metadata": {},
   "outputs": [
    {
     "data": {
      "text/plain": [
       "1700    white\n",
       "5199    white\n",
       "3340    white\n",
       "86        red\n",
       "5587    white\n",
       "        ...  \n",
       "3772    white\n",
       "5191    white\n",
       "5226    white\n",
       "5390    white\n",
       "860       red\n",
       "Name: color, Length: 4352, dtype: category\n",
       "Categories (2, object): [red, white]"
      ]
     },
     "execution_count": 24,
     "metadata": {},
     "output_type": "execute_result"
    }
   ],
   "source": [
    "X_train['color'].astype('category')"
   ]
  },
  {
   "cell_type": "code",
   "execution_count": 25,
   "metadata": {},
   "outputs": [
    {
     "data": {
      "text/plain": [
       "3103    white\n",
       "1419      red\n",
       "4761    white\n",
       "4690    white\n",
       "4032    white\n",
       "        ...  \n",
       "3767    white\n",
       "1068      red\n",
       "1942    white\n",
       "1647    white\n",
       "2683    white\n",
       "Name: color, Length: 2145, dtype: category\n",
       "Categories (2, object): [red, white]"
      ]
     },
     "execution_count": 25,
     "metadata": {},
     "output_type": "execute_result"
    }
   ],
   "source": [
    "X_test['color'].astype('category')"
   ]
  },
  {
   "cell_type": "markdown",
   "metadata": {},
   "source": [
    "La méthode `.astype('category')` permet de passer du type `object` au type catégoriel `category` (binaire dans ce cas).  \n",
    "`Categories (2, object): [red, white]` indique que `0` correspond à `red` et `1` correspond à `white`.  \n",
    "On note que l'encoding est le même dans `X_train` et `X_test`."
   ]
  },
  {
   "cell_type": "code",
   "execution_count": 26,
   "metadata": {},
   "outputs": [],
   "source": [
    "X_train['color'] = X_train['color'].astype('category').cat.codes  #remplace la colonne 'color' par sa version binaire\n",
    "X_test['color'] = X_test['color'].astype('category').cat.codes"
   ]
  },
  {
   "cell_type": "code",
   "execution_count": 27,
   "metadata": {},
   "outputs": [
    {
     "data": {
      "text/plain": [
       "1700    1\n",
       "5199    1\n",
       "3340    1\n",
       "86      0\n",
       "5587    1\n",
       "       ..\n",
       "3772    1\n",
       "5191    1\n",
       "5226    1\n",
       "5390    1\n",
       "860     0\n",
       "Name: color, Length: 4352, dtype: int8"
      ]
     },
     "execution_count": 27,
     "metadata": {},
     "output_type": "execute_result"
    }
   ],
   "source": [
    "X_train['color']  #on vérifie que 1 correspond bien à 'white'."
   ]
  },
  {
   "cell_type": "markdown",
   "metadata": {},
   "source": [
    "## Exercice 4 : premier classifieur"
   ]
  },
  {
   "cell_type": "markdown",
   "metadata": {},
   "source": [
    "### La régression logistique binaire"
   ]
  },
  {
   "cell_type": "markdown",
   "metadata": {},
   "source": [
    "Etant donnée une variable aléatoire $Y$ à valeurs dans $\\{0,1\\}$ et un vecteur aléatoire $X$ à valeurs dans $\\mathbb R^d$ on souhaite approcher la loi conditionnelle de $Y$ sachant $X=x$ où $x\\in \\mathbb R^d$. On suppose que le modèle est paramétrique: $$Y|X=x \\sim \\text{Bernoulli}(\\sigma(\\theta^T x))$$\n",
    "où $\\theta\\in \\mathbb R^d$ est le paramètre (qu'on cherche à estimer) et $\\sigma:t\\mapsto \\frac{1}{1+e^{-t}}$ est appelée fonction sigmoide.\n",
    "\n",
    "Le but est de calculer un $\\theta$ qui colle bien aux données d'entrainement. Une fois qu'on l'a calculé et qu'on a un nouveau vecteur de données $x\\in \\mathbb R^d$ en entrée, on évalue simplement $\\sigma(\\theta^T x)$. C'est la probabilité renvoyée par le modèle que $Y=1$. Si c'est $>\\frac 12$ on prévoit $1$, et sinon on prévoit $0$.\n",
    "\n",
    "Considérons la vraisemblance conditionnelle du modèle. Soit $(X_1,Y_1),\\ldots, (X_n,Y_n)$ iid suivant la loi de $(X,Y)$. La vraisemblance conditionnelle est la densité conditionnelle de $(Y_1,\\ldots,Y_n)$ sachant $(X_1,\\ldots,X_n)=(x^{(1)},\\ldots, x^{(n)})$.  \n",
    "De la même manière que la vraisemblance usuelle est un produit de densités, la vraisemblance conditionnelle s'écrit comme un produit de densités conditionnelles:\n",
    "$$L(\\theta; y^{(1)},\\ldots, y^{(n)},x^{(1)},\\ldots, x^{(n)} ) = \\prod_{i=1}^n P(Y=y^{(i)}|X=x^{(i)}) = \\prod_{i=1}^n \\sigma(\\theta^T x^{(i)}))^{y^{(i)}} [1-\\sigma(\\theta^T x^{(i)})]^{1-y^{(i)}}$$\n",
    "La log-vraisemblance conditionnelle s'écrit $$\\log L(\\theta; y^{(1)},\\ldots, y^{(n)},x^{(1)},\\ldots, x^{(n)} ) = \\sum_{i=1}^n y^{(i)} \\log \\sigma(\\theta^T x^{(i)})) + (1-y^{(i)}) \\log(1-\\sigma(\\theta^T x^{(i)})) $$\n",
    "\n",
    "Le problème d'optimisation à résoudre est $$\\text{argmax}_{\\theta \\in \\mathbb R^d} \\sum_{i=1}^n y^{(i)} \\log \\sigma(\\theta^T x^{(i)})) + (1-y^{(i)}) \\log(1-\\sigma(\\theta^T x^{(i)}))$$\n",
    "et sous forme de minimisation d'une loss (perte): \n",
    "$$\\text{argmin}_{\\theta \\in \\mathbb R^d} -\\left[\\sum_{i=1}^n y^{(i)} \\log \\sigma(\\theta^T x^{(i)})) + (1-y^{(i)}) \\log(1-\\sigma(\\theta^T x^{(i)})) \\right]$$\n",
    "\n",
    "Ce problème est bien convexe en $\\theta$. Contrairement à la régression linéaire, il n'admet pas de minimiseur explicite. Pour le résoudre il faut utiliser une méthode de descente gradient ou des méthodes du second ordre (Newton).\n",
    "\n",
    "*Remarque*: On pourrait aussi définir directement la loss associée à un échantillon $(x^{(i)},y^{(i)})$ comme $$-[y^{(i)} \\log \\sigma(\\theta^T x^{(i)})) + (1-y^{(i)}) \\log(1-\\sigma(\\theta^T x^{(i)}))]$$ \n",
    "Cette loss est appelée *log-loss* ou *binary cross-entropy*.\n",
    "\n",
    "***\n",
    "\n",
    "Il est intéressant de regarder la frontière de décision de la régression logistique. Le classifieur prévoit $1$ pour l'échantillon $x\\in \\mathbb R^d$ si et seulement si $\\sigma(\\theta^T x)>\\frac 12$, i.e $\\theta^T x >0$. En d'autre termes, la frontière de décision est un hyperplan (affine en supposant que la dernière coordonnée de $x$ est $1$).  \n",
    "**La régression logistique ne peut donc donner de bons résultats que si les données sont linéairement séparables !**"
   ]
  },
  {
   "cell_type": "markdown",
   "metadata": {},
   "source": [
    "### La régression multiclasse"
   ]
  },
  {
   "cell_type": "markdown",
   "metadata": {},
   "source": [
    "Il existe plusieurs approches pour passer de classifieurs binaires (2 catégories) à des classifieurs multiclasse ($\\geq 3$ catégories). Disons qu'il y a $C$ classes.\n",
    "\n",
    "La première approche s'appelle *one-versus-rest*. On entraine un classifieur $g_1$ qui différencie entre la classe $1$ et les $C-1$ autres (le problème devient binaire), puis un classifieur $g_2$ qui différencie entre la classe $2$ et $C-1$ les autres, etc. Au total, on entraine $C$ classifieurs binaires $g_1,\\ldots,g_C$. Etant donné un vecteur $x\\in \\mathbb R^d$ en entrée, on évalue $g_1(x),\\ldots,g_C(x)$ et on prend le classifieur qui renvoie le plus grand score.\n",
    "\n",
    "La deuxième approche s'appelle *one-versus-one*. Pour tout $i<j$ on entraine un classifieur $g_{ij}$ qui différencie entre les classes $i$ et $j$ (le problème devient binaire). Au total, on entraine $\\frac{C(C-1)}{2}$ classifieurs binaires. Etant donné un vecteur $x\\in \\mathbb R^d$ en entrée, on évalue tous les $g_{ij}(x)$ et on prend le classifieur qui gagne le plus de duel.   \n",
    "Il faut noter que pour entrainer $g_{ij}$ on a besoin de beaucoup moins de lignes que pour entrainer un classifieur en *one-versus-rest*.\n",
    "\n",
    "La deuxième approche est plus avantageuse si l'entrainement des classifieurs scale mal avec le nombre de lignes dans les données d'entrainement (c'est le cas des SVM).\n",
    "\n",
    "Dans `scikit-learn`, la [régression logistique](https://scikit-learn.org/stable/modules/generated/sklearn.linear_model.LogisticRegression.html) admet un paramètre `multi_class` dont la valeur par défaut est `ovr` (one versus rest)."
   ]
  },
  {
   "cell_type": "markdown",
   "metadata": {},
   "source": [
    "### La régression logistique multinomiale"
   ]
  },
  {
   "cell_type": "markdown",
   "metadata": {},
   "source": [
    "C'est une généralisation de la régression logistique usuelle. Elle prend directement en charge le cas multiclasse. Je vais éviter de passer par un modèle statistique et par l'écriture du maximum de vraisemblance.\n",
    "\n",
    "Disons qu'il y a $C$ classes. Le paramètre à apprendre est une matrice $\\Theta\\in \\mathbb R^{C\\times d}$ dont la $k$ème ligne $\\theta^{(k)}\\in \\mathbb R^d$ correspond au paramètre de la classe $k$.\n",
    "\n",
    "La loss (semblable au cas binaire) s'écrit $$J(\\Theta) = -\\sum_{i=1}^n \\sum_{k=1}^C y_k^{(i)} \\log\\left[ \\frac{\\exp({x^{(i)}}^T\\theta^{(k)})}{\\sum_{j=1}^C \\exp({x^{(i)}}^T\\theta^{(j)})} \\right]$$\n",
    "\n",
    "On peut vérifier qu'elle a bien du sens. Soit $i$ fixé. Il existe un unique $k_0$ tel que $y_{k_0}^{(i)}=1$ (le reste des $y_{k}^{(i)}$ sont $0$). L'argument du $\\log$ $$ \\frac{\\exp({x^{(i)}}^T\\theta^{(k_0)})}{\\sum_{j=1}^C \\exp({x^{(i)}}^T\\theta^{(j)})}$$ correspond à la probabilité (renvoyée par le modèle) que la classe associée à l'échantillon $i$ soit $k_0$.  \n",
    "Si cette probabilité est proche de $1$ (le modèle a bon), alors $$-y_{k_0}^{(i)} \\log\\left[ \\frac{\\exp({x^{(i)}}^T\\theta^{(k_0)})}{\\sum_{j=1}^C \\exp({x^{(i)}}^T\\theta^{(j)})} \\right]\\approx 0$$\n",
    "\n",
    "Si cette probabilité est proche de $0$ (le modèle se trompe!) alors \n",
    "$$-y_{k_0}^{(i)} \\log\\left[ \\frac{\\exp({x^{(i)}}^T\\theta^{(k_0)})}{\\sum_{j=1}^C \\exp({x^{(i)}}^T\\theta^{(j)})} \\right]\\approx \\infty$$\n",
    "\n",
    "*Remarque*: la fonction $S:\\mathbb R^C \\to \\Delta^C$ définie par $$ (s_1,\\ldots,s_C)\\mapsto \\left(\\ldots,\\frac{\\exp(s_k)}{\\sum_{j=1}^C \\exp(s_j)},\\ldots \\right)$$ s'appelle *softmax*. Vous la verrez partout en deep learning (classification d'images).\n",
    "\n",
    "La régression logistique multinomial est implémentée dans `scikit-learn` avec le paramètre `multi_class='multinomial'`."
   ]
  },
  {
   "cell_type": "markdown",
   "metadata": {},
   "source": [
    "### Que choisir ?\n",
    "\n",
    "https://stats.stackexchange.com/questions/52104/multinomial-logistic-regression-vs-one-vs-rest-binary-logistic-regression\n",
    "***"
   ]
  },
  {
   "cell_type": "markdown",
   "metadata": {},
   "source": [
    "### Evaluer la performance d'un classifieur "
   ]
  },
  {
   "cell_type": "markdown",
   "metadata": {},
   "source": [
    "Il existe plusieurs métriques d'évaluation de la performance d'un classifieur.\n",
    "\n",
    "Etant donnée une classe $c$, on définit 4 quantités:  \n",
    "le nombre de vrais positifs $VP$ (le vrai label est $c$ et le modèle a prédit $c$)  \n",
    "le nombre de faux positifs $FP$ (le vrai label est $\\neq c$ et le modèle a prédit $c$)  \n",
    "le nombre de vrais négatifs $VN$ (le vrai label est $\\neq c$ et le modèle a prédit $\\neq c$)  \n",
    "le nombre de faux négatifs $FN$ (le vrai label est $c$ et le modèle a prédit $\\neq c$)  \n",
    "\n",
    "#### Accuracy\n",
    "L'accuracy d'un classifieur est la proportion de prédictions correctes (toutes classes confondues)\n",
    "\n",
    "#### Precision\n",
    "Pour une classe $c$ donnée, la précision est donnée par $$\\text{precision} = \\frac{VP}{VP+FP}$$\n",
    "En d'autres termes on ne regarde que là où le classifieur a renvoyé $c$, et on calcule la proportion de prédictions correctes (les vrais positifs divisé par le nombre total de positifs renvoyés par le classifieur).\n",
    "\n",
    "#### Recall\n",
    "Pour une classe $c$ donnée, le recall est donnée par $$\\text{recall} = \\frac{VP}{VP+FN}$$\n",
    "En d'autres termes on ne regarde que les exemples dont le vrai label est $c$, et parmi ceux là on regarde combien ont été correctement trouvés par le classifieur.\n",
    "***\n",
    "\n",
    "L'accuracy n'est pas une métrique pertinente lorsque la répartition des classes n'est pas équilibrée (unbalanced classification). En effet, considérons le cas des images de radiologie. Supposons qu'une tumeur survient chez $1\\%$ de la population. Considérons le classifieur trivial qui renvoie $0$ quel que soit la radio (i.e. le classifieur dit tout le temps qu'il n'y a pas de tumeur). Alors on s'attend à ce que ce classifieur ait une accuracy de $99\\%$ !!\n",
    "\n",
    "En revanche ce classifieur a une précision qui n'est pas définie (elle vaut $\\frac 00$) et un recall qui vaut $0$. Quand la répartition des classes n'est pas équilibrée, precision et recall sont bien plus pertinents.\n",
    "\n",
    "***\n",
    "Suivant le problème considéré on peut désirer juste une grande précision ou juste un grand recall.  \n",
    "*Exemple*: un classifieur qui dit $1$ si une vidéo est ok pour les -18 ans. On veut une grande précision, quitte à avoir un petit recall. En d'autres termes on ne veut surtout pas laisser passer de vidéos +18 (on est prêt à rejeter beaucoup de vidéos qui sont pourtant ok pour les -18)  (on veut très peu de faux positifs, quitte à avoir beaucoup de faux négatifs).\n",
    "\n",
    "*Exemple*: un classifieur qui dit $1$ si une personne vole dans un magasin (caméra de surveillance). On veut un grand recall, quitte à avoir une petite précision. En d'autres termes on veut attraper tous les voleurs, quitte à ce que des clients honnêtes soient identifier à tort comme des voleurs (on veut très peu de faux négatifs quitte à avoir beaucoup de faux positifs).\n",
    "\n",
    "*Exemple*: un classifieur qui dit $1$ si une tumeur est présente sur une radio. On veut un grand recall, quitte à avoir une petite précision. En d'autres termes on ne veut pas louper de tumeurs, quitte à ce que le radiologue ait beaucoup de faux positifs."
   ]
  },
  {
   "cell_type": "code",
   "execution_count": 28,
   "metadata": {},
   "outputs": [
    {
     "name": "stdout",
     "output_type": "stream",
     "text": [
      "              precision    recall  f1-score   support\n",
      "\n",
      "           3       0.00      0.00      0.00        10\n",
      "           4       0.00      0.00      0.00        76\n",
      "           5       0.53      0.62      0.57       672\n",
      "           6       0.51      0.69      0.59       977\n",
      "           7       0.48      0.06      0.11       352\n",
      "           8       0.00      0.00      0.00        57\n",
      "           9       0.00      0.00      0.00         1\n",
      "\n",
      "    accuracy                           0.52      2145\n",
      "   macro avg       0.22      0.20      0.18      2145\n",
      "weighted avg       0.48      0.52      0.46      2145\n",
      "\n"
     ]
    },
    {
     "name": "stderr",
     "output_type": "stream",
     "text": [
      "C:\\Users\\gabsens\\AppData\\Roaming\\Python\\Python36\\site-packages\\sklearn\\linear_model\\logistic.py:432: FutureWarning: Default solver will be changed to 'lbfgs' in 0.22. Specify a solver to silence this warning.\n",
      "  FutureWarning)\n",
      "C:\\Users\\gabsens\\AppData\\Roaming\\Python\\Python36\\site-packages\\sklearn\\linear_model\\logistic.py:469: FutureWarning: Default multi_class will be changed to 'auto' in 0.22. Specify the multi_class option to silence this warning.\n",
      "  \"this warning.\", FutureWarning)\n",
      "C:\\Users\\gabsens\\AppData\\Roaming\\Python\\Python36\\site-packages\\sklearn\\metrics\\classification.py:1437: UndefinedMetricWarning: Precision and F-score are ill-defined and being set to 0.0 in labels with no predicted samples.\n",
      "  'precision', 'predicted', average, warn_for)\n"
     ]
    }
   ],
   "source": [
    "from sklearn.linear_model import LogisticRegression\n",
    "from sklearn.metrics import classification_report\n",
    "\n",
    "#Régression logistique one versus rest\n",
    "clf_log = LogisticRegression(random_state=42).fit(X_train, y_train)\n",
    "print(classification_report(y_test, clf_log.predict(X_test)))"
   ]
  },
  {
   "cell_type": "markdown",
   "metadata": {},
   "source": [
    "Calculons à la main la precision et le recall de la classe 5 avec le classifieur précédent."
   ]
  },
  {
   "cell_type": "code",
   "execution_count": 31,
   "metadata": {},
   "outputs": [
    {
     "data": {
      "text/plain": [
       "0.5294117647058824"
      ]
     },
     "execution_count": 31,
     "metadata": {},
     "output_type": "execute_result"
    }
   ],
   "source": [
    "labels =  np.c_[y_test, clf_log.predict(X_test)]\n",
    "\n",
    "VP = len([row for row in labels if list(row)==[5,5]])\n",
    "FP = len([1 for (lab1,lab2) in labels if lab1!=5 and lab2==5])\n",
    "VP/(VP+FP) "
   ]
  },
  {
   "cell_type": "code",
   "execution_count": 32,
   "metadata": {},
   "outputs": [
    {
     "data": {
      "text/plain": [
       "0.6160714285714286"
      ]
     },
     "execution_count": 32,
     "metadata": {},
     "output_type": "execute_result"
    }
   ],
   "source": [
    "FN = len([1 for (lab1,lab2) in labels if lab1==5 and lab2!=5])\n",
    "VP/(VP+FN)"
   ]
  },
  {
   "cell_type": "markdown",
   "metadata": {},
   "source": [
    "On retrouve les mêmes chiffres !"
   ]
  },
  {
   "cell_type": "markdown",
   "metadata": {},
   "source": [
    "***\n",
    "Comme les classes ne sont pas équilibrées, on peut faire du [*cost-sensitive learning*](https://link.springer.com/referenceworkentry/10.1007%2F978-0-387-30164-8_181). Dans scikit-learn, ça revient à mettre `class_weight='balanced'`."
   ]
  },
  {
   "cell_type": "code",
   "execution_count": 30,
   "metadata": {},
   "outputs": [
    {
     "name": "stdout",
     "output_type": "stream",
     "text": [
      "              precision    recall  f1-score   support\n",
      "\n",
      "           3       0.01      0.10      0.03        10\n",
      "           4       0.17      0.26      0.21        76\n",
      "           5       0.52      0.60      0.55       672\n",
      "           6       0.55      0.37      0.45       977\n",
      "           7       0.35      0.33      0.34       352\n",
      "           8       0.17      0.19      0.18        57\n",
      "           9       0.01      1.00      0.01         1\n",
      "\n",
      "    accuracy                           0.43      2145\n",
      "   macro avg       0.26      0.41      0.25      2145\n",
      "weighted avg       0.48      0.43      0.45      2145\n",
      "\n"
     ]
    },
    {
     "name": "stderr",
     "output_type": "stream",
     "text": [
      "C:\\Users\\gabsens\\AppData\\Roaming\\Python\\Python36\\site-packages\\sklearn\\linear_model\\logistic.py:432: FutureWarning: Default solver will be changed to 'lbfgs' in 0.22. Specify a solver to silence this warning.\n",
      "  FutureWarning)\n",
      "C:\\Users\\gabsens\\AppData\\Roaming\\Python\\Python36\\site-packages\\sklearn\\linear_model\\logistic.py:469: FutureWarning: Default multi_class will be changed to 'auto' in 0.22. Specify the multi_class option to silence this warning.\n",
      "  \"this warning.\", FutureWarning)\n"
     ]
    }
   ],
   "source": [
    "#Régression logistique one versus rest, cost-sensitive learning\n",
    "clf_log = LogisticRegression(class_weight='balanced', random_state=42).fit(X_train, y_train)\n",
    "print(classification_report(y_test, clf_log.predict(X_test)))"
   ]
  },
  {
   "cell_type": "markdown",
   "metadata": {},
   "source": [
    "***\n",
    "Entrainons un random forest."
   ]
  },
  {
   "cell_type": "code",
   "execution_count": 37,
   "metadata": {},
   "outputs": [
    {
     "name": "stdout",
     "output_type": "stream",
     "text": [
      "              precision    recall  f1-score   support\n",
      "\n",
      "           3       0.50      0.10      0.17        10\n",
      "           4       0.82      0.12      0.21        76\n",
      "           5       0.66      0.74      0.70       672\n",
      "           6       0.66      0.74      0.69       977\n",
      "           7       0.70      0.51      0.59       352\n",
      "           8       0.90      0.33      0.49        57\n",
      "           9       0.00      0.00      0.00         1\n",
      "\n",
      "    accuracy                           0.66      2145\n",
      "   macro avg       0.61      0.36      0.41      2145\n",
      "weighted avg       0.68      0.66      0.65      2145\n",
      "\n"
     ]
    },
    {
     "name": "stderr",
     "output_type": "stream",
     "text": [
      "C:\\Users\\gabsens\\AppData\\Roaming\\Python\\Python36\\site-packages\\sklearn\\metrics\\classification.py:1437: UndefinedMetricWarning: Precision and F-score are ill-defined and being set to 0.0 in labels with no predicted samples.\n",
      "  'precision', 'predicted', average, warn_for)\n"
     ]
    }
   ],
   "source": [
    "from sklearn.ensemble import RandomForestClassifier\n",
    "\n",
    "#Random forest\n",
    "clf_for = RandomForestClassifier(n_estimators=100, class_weight='balanced', random_state=42).fit(X_train, y_train)\n",
    "print(classification_report(y_test, clf_for.predict(X_test)))"
   ]
  },
  {
   "cell_type": "markdown",
   "metadata": {},
   "source": [
    "## Exercice 5 : courbe ROC\n"
   ]
  },
  {
   "cell_type": "code",
   "execution_count": 39,
   "metadata": {},
   "outputs": [
    {
     "data": {
      "image/png": "[encoded data removed]",
      "text/plain": [
       "<Figure size 576x288 with 1 Axes>"
      ]
     },
     "metadata": {
      "needs_background": "light"
     },
     "output_type": "display_data"
    }
   ],
   "source": [
    "from sklearn.metrics import roc_curve, auc\n",
    "\n",
    "labels = clf_log.classes_\n",
    "y_score = clf_log.predict_proba(X_test)\n",
    "\n",
    "fpr = dict()\n",
    "tpr = dict()\n",
    "roc_auc = dict()\n",
    "for i, cl in enumerate(labels):\n",
    "    fpr[cl], tpr[cl], _ = roc_curve(y_test == cl, y_score[:, i])\n",
    "    roc_auc[cl] = auc(fpr[cl], tpr[cl])\n",
    "    \n",
    "fig, ax = plt.subplots(1, 1, figsize=(8,4))\n",
    "for k in roc_auc:\n",
    "    ax.plot(fpr[k], tpr[k], label=\"c%d = %1.2f\" % (k, roc_auc[k]))\n",
    "ax.legend();"
   ]
  },
  {
   "cell_type": "code",
   "execution_count": 40,
   "metadata": {},
   "outputs": [
    {
     "data": {
      "image/png": "[encoded data removed]",
      "text/plain": [
       "<Figure size 576x288 with 1 Axes>"
      ]
     },
     "metadata": {
      "needs_background": "light"
     },
     "output_type": "display_data"
    }
   ],
   "source": [
    "labels = clf_for.classes_\n",
    "y_score = clf_for.predict_proba(X_test)\n",
    "\n",
    "fpr = dict()\n",
    "tpr = dict()\n",
    "roc_auc = dict()\n",
    "for i, cl in enumerate(labels):\n",
    "    fpr[cl], tpr[cl], _ = roc_curve(y_test == cl, y_score[:, i])\n",
    "    roc_auc[cl] = auc(fpr[cl], tpr[cl])\n",
    "    \n",
    "fig, ax = plt.subplots(1, 1, figsize=(8,4))\n",
    "for k in roc_auc:\n",
    "    ax.plot(fpr[k], tpr[k], label=\"c%d = %1.2f\" % (k, roc_auc[k]))\n",
    "ax.legend();"
   ]
  },
  {
   "cell_type": "markdown",
   "metadata": {},
   "source": [
    "## Exercice 6 : anomalies\n",
    "\n",
    "Une anomalie est un point aberrant. Cela revient à dire que sa probabilité qu'un tel événement se reproduise est faible. Un modèle assez connu est [EllipticEnvelope](https://scikit-learn.org/stable/auto_examples/plot_anomaly_comparison.html). On suppose que si le modèle détecte une anomalie, un modèle de prédiction aura plus de mal à prédire. On réutilise le pipeline précédent en changeant juste la dernière étape."
   ]
  },
  {
   "cell_type": "code",
   "execution_count": 7,
   "metadata": {},
   "outputs": [],
   "source": [
    "from sklearn.covariance import EllipticEnvelope\n"
   ]
  },
  {
   "cell_type": "markdown",
   "metadata": {},
   "source": [
    "## Exercice 7 : régression\n",
    "\n",
    "La note est numérique, pourquoi ne pas essayer une régression."
   ]
  },
  {
   "cell_type": "code",
   "execution_count": 8,
   "metadata": {},
   "outputs": [],
   "source": [
    "from sklearn.ensemble import RandomForestRegressor"
   ]
  },
  {
   "cell_type": "markdown",
   "metadata": {},
   "source": [
    "## Exercice 8 : intervalle de confiance\n",
    "    \n",
    "Comment constuire un intervalle de confiance avec un classifieur et un régresseur. Rien de théorique, juste des idées et un peu de bidouille."
   ]
  },
  {
   "cell_type": "code",
   "execution_count": 9,
   "metadata": {},
   "outputs": [],
   "source": []
  }
 ],
 "metadata": {
  "kernelspec": {
   "display_name": "Python 3",
   "language": "python",
   "name": "python3"
  },
  "language_info": {
   "codemirror_mode": {
    "name": "ipython",
    "version": 3
   },
   "file_extension": ".py",
   "mimetype": "text/x-python",
   "name": "python",
   "nbconvert_exporter": "python",
   "pygments_lexer": "ipython3",
   "version": "3.6.8"
  }
 },
 "nbformat": 4,
 "nbformat_minor": 1
}
