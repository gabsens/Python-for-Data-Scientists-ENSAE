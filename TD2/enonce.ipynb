{
 "cells": [
  {
   "cell_type": "markdown",
   "metadata": {},
   "source": [
    "# 2A.ml - Arbres, forêts aléatoires et extensions - énoncé- Gabriel ROMON\n",
    "\n",
    "Cet énoncé est une version modifiée de celui de Xavier Dupré."
   ]
  },
  {
   "cell_type": "code",
   "execution_count": 1,
   "metadata": {},
   "outputs": [],
   "source": [
    "%matplotlib inline\n",
    "import urllib.request\n",
    "import pickle\n",
    "import matplotlib.pyplot as plt\n",
    "import pandas as pd\n",
    "import numpy as np\n",
    "import xgboost as xgb"
   ]
  },
  {
   "cell_type": "markdown",
   "metadata": {},
   "source": [
    "# Données"
   ]
  },
  {
   "cell_type": "markdown",
   "metadata": {},
   "source": [
    "Le package `pickle` permet de sauvegarder n'importe quel objet Python (liste, numpy array, ...) en un fichier afin que cet objet puisse être sauvegardé ou partagé. C'est très pratique lorsque l'objet en question est le fruit d'un calcul long (poids d'un réseau de neurones, hyperparamètres d'un modèle, ...).\n",
    "\n",
    "On télécharge le fichier `.pickle` depuis mon Github et on l'ouvre. C'est une liste de 3 éléments `[X, y, X_private]`. Le but est d'entraîner un modèle sur `X, y` et de prédire `y_private` (qui est une variable continue).\n",
    "\n",
    "Vous m'enverrez un fichier `.pickle` contenant vos prédictions et je vais évaluer le MSE correspondant: $$\\text{MSE}=\\frac 1n\\sum_{i=1}^n (y_i-\\hat{y}_i)^2$$\n",
    "\n",
    "C'est un mini-Kaggle !"
   ]
  },
  {
   "cell_type": "code",
   "execution_count": 2,
   "metadata": {},
   "outputs": [],
   "source": [
    "url = 'https://github.com/gabsens/Python-for-Data-Scientists-ENSAE/raw/master/TD2/data.pickle'\n",
    "urllib.request.urlretrieve(url, './data.pickle')\n",
    "\n",
    "with open(\"data.pickle\", \"rb\") as f:\n",
    "    X, y, X_private = pickle.load(f)"
   ]
  },
  {
   "cell_type": "code",
   "execution_count": 3,
   "metadata": {},
   "outputs": [
    {
     "data": {
      "text/plain": [
       "(15480, 8)"
      ]
     },
     "execution_count": 3,
     "metadata": {},
     "output_type": "execute_result"
    }
   ],
   "source": [
    "X.shape"
   ]
  },
  {
   "cell_type": "code",
   "execution_count": 4,
   "metadata": {},
   "outputs": [
    {
     "data": {
      "text/plain": [
       "(5160, 8)"
      ]
     },
     "execution_count": 4,
     "metadata": {},
     "output_type": "execute_result"
    }
   ],
   "source": [
    "X_private.shape"
   ]
  },
  {
   "cell_type": "markdown",
   "metadata": {},
   "source": [
    "# Exercice 1: Mini-Kaggle, tuning de modèles"
   ]
  },
  {
   "cell_type": "markdown",
   "metadata": {},
   "source": [
    "Afin de juger de la qualité des modèles entrainés, il faut couper le jeu de données en deux."
   ]
  },
  {
   "cell_type": "code",
   "execution_count": 5,
   "metadata": {},
   "outputs": [],
   "source": [
    "from sklearn.model_selection import train_test_split\n",
    "X_train, X_test, y_train, y_test = train_test_split(X, y)"
   ]
  },
  {
   "cell_type": "code",
   "execution_count": 6,
   "metadata": {},
   "outputs": [
    {
     "data": {
      "text/plain": [
       "(11610, 8)"
      ]
     },
     "execution_count": 6,
     "metadata": {},
     "output_type": "execute_result"
    }
   ],
   "source": [
    "X_train.shape"
   ]
  },
  {
   "cell_type": "code",
   "execution_count": 7,
   "metadata": {},
   "outputs": [
    {
     "data": {
      "text/plain": [
       "(3870, 8)"
      ]
     },
     "execution_count": 7,
     "metadata": {},
     "output_type": "execute_result"
    }
   ],
   "source": [
    "X_test.shape"
   ]
  },
  {
   "cell_type": "markdown",
   "metadata": {},
   "source": [
    "## a) Entraîner une régression linéaire"
   ]
  },
  {
   "cell_type": "markdown",
   "metadata": {},
   "source": [
    "On commence toujours par le modèle le plus simple: la régression linéaire. C'est un modèle peu complexe, mais au moins il ne risque pas d'overfitter."
   ]
  },
  {
   "cell_type": "code",
   "execution_count": null,
   "metadata": {},
   "outputs": [],
   "source": []
  },
  {
   "cell_type": "markdown",
   "metadata": {},
   "source": [
    "Vous devez obtenir à peu près le même MSE sur le train et le test. Ces scores constituent la baseline."
   ]
  },
  {
   "cell_type": "markdown",
   "metadata": {},
   "source": [
    "## b) Entraîner un arbre de décision"
   ]
  },
  {
   "cell_type": "markdown",
   "metadata": {},
   "source": [
    "Ne touchez à aucun hyperparamètre dans un premier temps."
   ]
  },
  {
   "cell_type": "code",
   "execution_count": null,
   "metadata": {},
   "outputs": [],
   "source": []
  },
  {
   "cell_type": "markdown",
   "metadata": {},
   "source": [
    "Le MSE sur le train est quasi 0, alors que le MSE sur le test est proche de celui de la régression linéaire. Le modèle overfit terriblement !  \n",
    "\n",
    "Il va falloir jouer sur les hyperparamètres. Pour cela, il faut comprendre comment fonctionnent les arbres de décision...\n",
    "***\n",
    "\n",
    "Les arbres de décision de Scikit-Learn sont des arbres binaires (chaque noeud a exactement 2 fils). Ils sont construits récursivement en partant de la racine. Regardez l'arbre ci-dessous: étant donné un nouvel example $(x_1,\\ldots,x_8)$, on regarde d'abord si $x_1\\leq 5.148$. Si c'est le cas, on regarde ensuite si $x_1\\leq 3.071$. Si oui, le $\\hat y$ prédit est $1.352$. Sinon, on regarde si $x_6\\leq 2.344$. Si c'est le cas, on prédit $2.841$, et sinon on prédit $1.895$.\n",
    "\n",
    "A chaque noeud on peut associer les exemples de la base d'entrainement (les lignes de `X_train`) qui vérifient les conditions menant à ce noeud. Le nombre de telles lignes est donné par `samples=...`, la valeur $\\hat y$ que l'arbre leur assigne est donnée par `value=...`, et le MSE correspondant à cette prédiction est donné par `mse=...`.  \n",
    "Par exemple, dans l'arbre ci-dessous, considérons la condition $$(x_1\\leq 5.148) \\text{ and } (x_1> 3.071) \\text{ and } (x_6>2.344)$$\n",
    "$3861$ lignes la vérifient et la prédiction associée à ces lignes est $1.895$.\n",
    "\n",
    "Décrivons succinctement l'algorithme de croissance des arbres. Un noeud de l'arbre est entièrement caractérisé par la variable $x_k$ et le seuil $t_k$ à partir desquels la condition $x_k\\leq t_k$ est créée. La racine de l'arbre est créée en cherchant $(k, t_k)$ qui minimise $$\\frac{m_{\\text{gauche}}}{m} \\text{MSE}_{\\text{gauche}}+\\frac{m_{\\text{droite}}}{m} \\text{MSE}_{\\text{droite}}$$\n",
    "où $m$ est le nombre total de samples (le nombre de lignes de `X_train`), $m_{\\text{gauche}}$ est le nombre de samples qui vérifient la condition $x_k\\leq t_k$ et $\\text{MSE}_{\\text{gauche}} = \\sum_{i \\in \\text{gauche}} (y^{(i)}-\\hat y_{\\text{gauche}}\n",
    ")^2$ où la valeur prédite dans le fils gauche est $\\hat y_{\\text{gauche}} = \\frac{1}{m_{\\text{gauche}}} \\sum_{i \\in \\text{gauche}} y^{(i)}$.  \n",
    "La croissance de l'arbre se poursuit en répétant le procédé sur le fils gauche et le fils droit de la racine (etc).\n",
    "\n",
    "Il faut des conditions d'arrêt qui disent quand stopper la croissance de l'arbre. Si l'arbre est trop complexe (trop de noeuds/feuilles), il va overfitter les données. C'est là qu'interviennent les hyperparamètres:\n",
    "* `max_depth`: la profondeur maximale de l'arbre \n",
    "* `max_leaf_nodes`: nombre maximal de feuilles dans l'arbre\n",
    "* `min_samples_split`: un noeud qui a moins de `min_samples_split` samples est automatiquement une feuille\n",
    "* `min_samples_leaf`: nombre minimum de samples dans chaque noeud (un split ne sera envisagé que si il y a au moins `min_samples_leaf` samples dans le fils gauche et `min_samples_leaf` samples dans le fils droit).\n",
    "\n",
    "\n",
    "En mettant `max_depth` petit, `max_leaf_nodes` petit, `min_samples_split` grand, et `min_samples_leaf` grand, on limite l'overfitting."
   ]
  },
  {
   "cell_type": "code",
   "execution_count": 8,
   "metadata": {},
   "outputs": [],
   "source": [
    "from graphviz import Source\n",
    "from sklearn.tree import export_graphviz\n",
    "import os\n",
    "#os.environ[\"PATH\"] += os.pathsep + 'C:/Program Files (x86)/Graphviz2.38/bin/'"
   ]
  },
  {
   "cell_type": "code",
   "execution_count": 11,
   "metadata": {},
   "outputs": [
    {
     "data": {
      "image/svg+xml": [
       "<?xml version=\"1.0\" encoding=\"UTF-8\" standalone=\"no\"?>\n",
       "<!DOCTYPE svg PUBLIC \"-//W3C//DTD SVG 1.1//EN\"\n",
       " \"http://www.w3.org/Graphics/SVG/1.1/DTD/svg11.dtd\">\n",
       "<!-- Generated by graphviz version 2.40.1 (20161225.0304)\n",
       " -->\n",
       "<!-- Title: Tree Pages: 1 -->\n",
       "<svg width=\"514pt\" height=\"358pt\"\n",
       " viewBox=\"0.00 0.00 514.34 358.00\" xmlns=\"http://www.w3.org/2000/svg\" xmlns:xlink=\"http://www.w3.org/1999/xlink\">\n",
       "<g id=\"graph0\" class=\"graph\" transform=\"scale(1 1) rotate(0) translate(4 354)\">\n",
       "<title>Tree</title>\n",
       "<polygon fill=\"#ffffff\" stroke=\"transparent\" points=\"-4,4 -4,-354 510.3374,-354 510.3374,4 -4,4\"/>\n",
       "<!-- 0 -->\n",
       "<g id=\"node1\" class=\"node\">\n",
       "<title>0</title>\n",
       "<path fill=\"#f9e0cf\" stroke=\"#000000\" d=\"M305.5996,-350C305.5996,-350 207.6309,-350 207.6309,-350 201.6309,-350 195.6309,-344 195.6309,-338 195.6309,-338 195.6309,-298 195.6309,-298 195.6309,-292 201.6309,-286 207.6309,-286 207.6309,-286 305.5996,-286 305.5996,-286 311.5996,-286 317.5996,-292 317.5996,-298 317.5996,-298 317.5996,-338 317.5996,-338 317.5996,-344 311.5996,-350 305.5996,-350\"/>\n",
       "<text text-anchor=\"middle\" x=\"256.6152\" y=\"-334.8\" font-family=\"Helvetica,sans-Serif\" font-size=\"14.00\" fill=\"#000000\">x1 &lt;= 5.148</text>\n",
       "<text text-anchor=\"middle\" x=\"256.6152\" y=\"-320.8\" font-family=\"Helvetica,sans-Serif\" font-size=\"14.00\" fill=\"#000000\">mse = 1.33</text>\n",
       "<text text-anchor=\"middle\" x=\"256.6152\" y=\"-306.8\" font-family=\"Helvetica,sans-Serif\" font-size=\"14.00\" fill=\"#000000\">samples = 11610</text>\n",
       "<text text-anchor=\"middle\" x=\"256.6152\" y=\"-292.8\" font-family=\"Helvetica,sans-Serif\" font-size=\"14.00\" fill=\"#000000\">value = 2.064</text>\n",
       "</g>\n",
       "<!-- 1 -->\n",
       "<g id=\"node2\" class=\"node\">\n",
       "<title>1</title>\n",
       "<path fill=\"#fceee4\" stroke=\"#000000\" d=\"M236.3459,-250C236.3459,-250 144.8845,-250 144.8845,-250 138.8845,-250 132.8845,-244 132.8845,-238 132.8845,-238 132.8845,-198 132.8845,-198 132.8845,-192 138.8845,-186 144.8845,-186 144.8845,-186 236.3459,-186 236.3459,-186 242.3459,-186 248.3459,-192 248.3459,-198 248.3459,-198 248.3459,-238 248.3459,-238 248.3459,-244 242.3459,-250 236.3459,-250\"/>\n",
       "<text text-anchor=\"middle\" x=\"190.6152\" y=\"-234.8\" font-family=\"Helvetica,sans-Serif\" font-size=\"14.00\" fill=\"#000000\">x1 &lt;= 3.071</text>\n",
       "<text text-anchor=\"middle\" x=\"190.6152\" y=\"-220.8\" font-family=\"Helvetica,sans-Serif\" font-size=\"14.00\" fill=\"#000000\">mse = 0.838</text>\n",
       "<text text-anchor=\"middle\" x=\"190.6152\" y=\"-206.8\" font-family=\"Helvetica,sans-Serif\" font-size=\"14.00\" fill=\"#000000\">samples = 9326</text>\n",
       "<text text-anchor=\"middle\" x=\"190.6152\" y=\"-192.8\" font-family=\"Helvetica,sans-Serif\" font-size=\"14.00\" fill=\"#000000\">value = 1.743</text>\n",
       "</g>\n",
       "<!-- 0&#45;&gt;1 -->\n",
       "<g id=\"edge1\" class=\"edge\">\n",
       "<title>0&#45;&gt;1</title>\n",
       "<path fill=\"none\" stroke=\"#000000\" d=\"M235.3691,-285.8089C229.6577,-277.1553 223.406,-267.683 217.4344,-258.635\"/>\n",
       "<polygon fill=\"#000000\" stroke=\"#000000\" points=\"220.2511,-256.5489 211.8215,-250.1308 214.4089,-260.4048 220.2511,-256.5489\"/>\n",
       "<text text-anchor=\"middle\" x=\"206.8052\" y=\"-270.4223\" font-family=\"Helvetica,sans-Serif\" font-size=\"14.00\" fill=\"#000000\">True</text>\n",
       "</g>\n",
       "<!-- 2 -->\n",
       "<g id=\"node7\" class=\"node\">\n",
       "<title>2</title>\n",
       "<path fill=\"#eda876\" stroke=\"#000000\" d=\"M369.3459,-250C369.3459,-250 277.8845,-250 277.8845,-250 271.8845,-250 265.8845,-244 265.8845,-238 265.8845,-238 265.8845,-198 265.8845,-198 265.8845,-192 271.8845,-186 277.8845,-186 277.8845,-186 369.3459,-186 369.3459,-186 375.3459,-186 381.3459,-192 381.3459,-198 381.3459,-198 381.3459,-238 381.3459,-238 381.3459,-244 375.3459,-250 369.3459,-250\"/>\n",
       "<text text-anchor=\"middle\" x=\"323.6152\" y=\"-234.8\" font-family=\"Helvetica,sans-Serif\" font-size=\"14.00\" fill=\"#000000\">x1 &lt;= 6.877</text>\n",
       "<text text-anchor=\"middle\" x=\"323.6152\" y=\"-220.8\" font-family=\"Helvetica,sans-Serif\" font-size=\"14.00\" fill=\"#000000\">mse = 1.207</text>\n",
       "<text text-anchor=\"middle\" x=\"323.6152\" y=\"-206.8\" font-family=\"Helvetica,sans-Serif\" font-size=\"14.00\" fill=\"#000000\">samples = 2284</text>\n",
       "<text text-anchor=\"middle\" x=\"323.6152\" y=\"-192.8\" font-family=\"Helvetica,sans-Serif\" font-size=\"14.00\" fill=\"#000000\">value = 3.372</text>\n",
       "</g>\n",
       "<!-- 0&#45;&gt;2 -->\n",
       "<g id=\"edge6\" class=\"edge\">\n",
       "<title>0&#45;&gt;2</title>\n",
       "<path fill=\"none\" stroke=\"#000000\" d=\"M278.1833,-285.8089C283.9812,-277.1553 290.3276,-267.683 296.3898,-258.635\"/>\n",
       "<polygon fill=\"#000000\" stroke=\"#000000\" points=\"299.4291,-260.3866 302.0876,-250.1308 293.6137,-256.4903 299.4291,-260.3866\"/>\n",
       "<text text-anchor=\"middle\" x=\"306.934\" y=\"-270.4565\" font-family=\"Helvetica,sans-Serif\" font-size=\"14.00\" fill=\"#000000\">False</text>\n",
       "</g>\n",
       "<!-- 3 -->\n",
       "<g id=\"node3\" class=\"node\">\n",
       "<title>3</title>\n",
       "<path fill=\"#ffffff\" stroke=\"#000000\" d=\"M103.3459,-143C103.3459,-143 11.8845,-143 11.8845,-143 5.8845,-143 -.1155,-137 -.1155,-131 -.1155,-131 -.1155,-105 -.1155,-105 -.1155,-99 5.8845,-93 11.8845,-93 11.8845,-93 103.3459,-93 103.3459,-93 109.3459,-93 115.3459,-99 115.3459,-105 115.3459,-105 115.3459,-131 115.3459,-131 115.3459,-137 109.3459,-143 103.3459,-143\"/>\n",
       "<text text-anchor=\"middle\" x=\"57.6152\" y=\"-127.8\" font-family=\"Helvetica,sans-Serif\" font-size=\"14.00\" fill=\"#000000\">mse = 0.556</text>\n",
       "<text text-anchor=\"middle\" x=\"57.6152\" y=\"-113.8\" font-family=\"Helvetica,sans-Serif\" font-size=\"14.00\" fill=\"#000000\">samples = 4423</text>\n",
       "<text text-anchor=\"middle\" x=\"57.6152\" y=\"-99.8\" font-family=\"Helvetica,sans-Serif\" font-size=\"14.00\" fill=\"#000000\">value = 1.352</text>\n",
       "</g>\n",
       "<!-- 1&#45;&gt;3 -->\n",
       "<g id=\"edge2\" class=\"edge\">\n",
       "<title>1&#45;&gt;3</title>\n",
       "<path fill=\"none\" stroke=\"#000000\" d=\"M147.8011,-185.8089C132.2956,-174.1506 114.8138,-161.0064 99.3981,-149.4157\"/>\n",
       "<polygon fill=\"#000000\" stroke=\"#000000\" points=\"101.1683,-146.3677 91.0721,-143.1555 96.9615,-151.9627 101.1683,-146.3677\"/>\n",
       "</g>\n",
       "<!-- 4 -->\n",
       "<g id=\"node4\" class=\"node\">\n",
       "<title>4</title>\n",
       "<path fill=\"#f8dfcd\" stroke=\"#000000\" d=\"M236.3459,-150C236.3459,-150 144.8845,-150 144.8845,-150 138.8845,-150 132.8845,-144 132.8845,-138 132.8845,-138 132.8845,-98 132.8845,-98 132.8845,-92 138.8845,-86 144.8845,-86 144.8845,-86 236.3459,-86 236.3459,-86 242.3459,-86 248.3459,-92 248.3459,-98 248.3459,-98 248.3459,-138 248.3459,-138 248.3459,-144 242.3459,-150 236.3459,-150\"/>\n",
       "<text text-anchor=\"middle\" x=\"190.6152\" y=\"-134.8\" font-family=\"Helvetica,sans-Serif\" font-size=\"14.00\" fill=\"#000000\">x6 &lt;= 2.344</text>\n",
       "<text text-anchor=\"middle\" x=\"190.6152\" y=\"-120.8\" font-family=\"Helvetica,sans-Serif\" font-size=\"14.00\" fill=\"#000000\">mse = 0.83</text>\n",
       "<text text-anchor=\"middle\" x=\"190.6152\" y=\"-106.8\" font-family=\"Helvetica,sans-Serif\" font-size=\"14.00\" fill=\"#000000\">samples = 4903</text>\n",
       "<text text-anchor=\"middle\" x=\"190.6152\" y=\"-92.8\" font-family=\"Helvetica,sans-Serif\" font-size=\"14.00\" fill=\"#000000\">value = 2.096</text>\n",
       "</g>\n",
       "<!-- 1&#45;&gt;4 -->\n",
       "<g id=\"edge3\" class=\"edge\">\n",
       "<title>1&#45;&gt;4</title>\n",
       "<path fill=\"none\" stroke=\"#000000\" d=\"M190.6152,-185.8089C190.6152,-177.6906 190.6152,-168.8517 190.6152,-160.3186\"/>\n",
       "<polygon fill=\"#000000\" stroke=\"#000000\" points=\"194.1153,-160.1307 190.6152,-150.1308 187.1153,-160.1308 194.1153,-160.1307\"/>\n",
       "</g>\n",
       "<!-- 7 -->\n",
       "<g id=\"node5\" class=\"node\">\n",
       "<title>7</title>\n",
       "<path fill=\"#f2bf9a\" stroke=\"#000000\" d=\"M105.3459,-50C105.3459,-50 13.8845,-50 13.8845,-50 7.8845,-50 1.8845,-44 1.8845,-38 1.8845,-38 1.8845,-12 1.8845,-12 1.8845,-6 7.8845,0 13.8845,0 13.8845,0 105.3459,0 105.3459,0 111.3459,0 117.3459,-6 117.3459,-12 117.3459,-12 117.3459,-38 117.3459,-38 117.3459,-44 111.3459,-50 105.3459,-50\"/>\n",
       "<text text-anchor=\"middle\" x=\"59.6152\" y=\"-34.8\" font-family=\"Helvetica,sans-Serif\" font-size=\"14.00\" fill=\"#000000\">mse = 1.301</text>\n",
       "<text text-anchor=\"middle\" x=\"59.6152\" y=\"-20.8\" font-family=\"Helvetica,sans-Serif\" font-size=\"14.00\" fill=\"#000000\">samples = 1042</text>\n",
       "<text text-anchor=\"middle\" x=\"59.6152\" y=\"-6.8\" font-family=\"Helvetica,sans-Serif\" font-size=\"14.00\" fill=\"#000000\">value = 2.841</text>\n",
       "</g>\n",
       "<!-- 4&#45;&gt;7 -->\n",
       "<g id=\"edge4\" class=\"edge\">\n",
       "<title>4&#45;&gt;7</title>\n",
       "<path fill=\"none\" stroke=\"#000000\" d=\"M145.5325,-85.9947C131.8034,-76.2481 116.7447,-65.5575 103.1219,-55.8864\"/>\n",
       "<polygon fill=\"#000000\" stroke=\"#000000\" points=\"105.0303,-52.9489 94.8501,-50.014 100.9781,-58.6568 105.0303,-52.9489\"/>\n",
       "</g>\n",
       "<!-- 8 -->\n",
       "<g id=\"node6\" class=\"node\">\n",
       "<title>8</title>\n",
       "<path fill=\"#fae8da\" stroke=\"#000000\" d=\"M238.3459,-50C238.3459,-50 146.8845,-50 146.8845,-50 140.8845,-50 134.8845,-44 134.8845,-38 134.8845,-38 134.8845,-12 134.8845,-12 134.8845,-6 140.8845,0 146.8845,0 146.8845,0 238.3459,0 238.3459,0 244.3459,0 250.3459,-6 250.3459,-12 250.3459,-12 250.3459,-38 250.3459,-38 250.3459,-44 244.3459,-50 238.3459,-50\"/>\n",
       "<text text-anchor=\"middle\" x=\"192.6152\" y=\"-34.8\" font-family=\"Helvetica,sans-Serif\" font-size=\"14.00\" fill=\"#000000\">mse = 0.512</text>\n",
       "<text text-anchor=\"middle\" x=\"192.6152\" y=\"-20.8\" font-family=\"Helvetica,sans-Serif\" font-size=\"14.00\" fill=\"#000000\">samples = 3861</text>\n",
       "<text text-anchor=\"middle\" x=\"192.6152\" y=\"-6.8\" font-family=\"Helvetica,sans-Serif\" font-size=\"14.00\" fill=\"#000000\">value = 1.895</text>\n",
       "</g>\n",
       "<!-- 4&#45;&gt;8 -->\n",
       "<g id=\"edge5\" class=\"edge\">\n",
       "<title>4&#45;&gt;8</title>\n",
       "<path fill=\"none\" stroke=\"#000000\" d=\"M191.3035,-85.9947C191.4835,-77.6273 191.6784,-68.5643 191.8615,-60.0478\"/>\n",
       "<polygon fill=\"#000000\" stroke=\"#000000\" points=\"195.3614,-60.087 192.0773,-50.014 188.363,-59.9364 195.3614,-60.087\"/>\n",
       "</g>\n",
       "<!-- 5 -->\n",
       "<g id=\"node8\" class=\"node\">\n",
       "<title>5</title>\n",
       "<path fill=\"#f1ba92\" stroke=\"#000000\" d=\"M369.3459,-150C369.3459,-150 277.8845,-150 277.8845,-150 271.8845,-150 265.8845,-144 265.8845,-138 265.8845,-138 265.8845,-98 265.8845,-98 265.8845,-92 271.8845,-86 277.8845,-86 277.8845,-86 369.3459,-86 369.3459,-86 375.3459,-86 381.3459,-92 381.3459,-98 381.3459,-98 381.3459,-138 381.3459,-138 381.3459,-144 375.3459,-150 369.3459,-150\"/>\n",
       "<text text-anchor=\"middle\" x=\"323.6152\" y=\"-134.8\" font-family=\"Helvetica,sans-Serif\" font-size=\"14.00\" fill=\"#000000\">x6 &lt;= 2.743</text>\n",
       "<text text-anchor=\"middle\" x=\"323.6152\" y=\"-120.8\" font-family=\"Helvetica,sans-Serif\" font-size=\"14.00\" fill=\"#000000\">mse = 0.884</text>\n",
       "<text text-anchor=\"middle\" x=\"323.6152\" y=\"-106.8\" font-family=\"Helvetica,sans-Serif\" font-size=\"14.00\" fill=\"#000000\">samples = 1566</text>\n",
       "<text text-anchor=\"middle\" x=\"323.6152\" y=\"-92.8\" font-family=\"Helvetica,sans-Serif\" font-size=\"14.00\" fill=\"#000000\">value = 2.959</text>\n",
       "</g>\n",
       "<!-- 2&#45;&gt;5 -->\n",
       "<g id=\"edge7\" class=\"edge\">\n",
       "<title>2&#45;&gt;5</title>\n",
       "<path fill=\"none\" stroke=\"#000000\" d=\"M323.6152,-185.8089C323.6152,-177.6906 323.6152,-168.8517 323.6152,-160.3186\"/>\n",
       "<polygon fill=\"#000000\" stroke=\"#000000\" points=\"327.1153,-160.1307 323.6152,-150.1308 320.1153,-160.1308 327.1153,-160.1307\"/>\n",
       "</g>\n",
       "<!-- 6 -->\n",
       "<g id=\"node11\" class=\"node\">\n",
       "<title>6</title>\n",
       "<path fill=\"#e58139\" stroke=\"#000000\" d=\"M494.5605,-143C494.5605,-143 410.67,-143 410.67,-143 404.67,-143 398.67,-137 398.67,-131 398.67,-131 398.67,-105 398.67,-105 398.67,-99 404.67,-93 410.67,-93 410.67,-93 494.5605,-93 494.5605,-93 500.5605,-93 506.5605,-99 506.5605,-105 506.5605,-105 506.5605,-131 506.5605,-131 506.5605,-137 500.5605,-143 494.5605,-143\"/>\n",
       "<text text-anchor=\"middle\" x=\"452.6152\" y=\"-127.8\" font-family=\"Helvetica,sans-Serif\" font-size=\"14.00\" fill=\"#000000\">mse = 0.732</text>\n",
       "<text text-anchor=\"middle\" x=\"452.6152\" y=\"-113.8\" font-family=\"Helvetica,sans-Serif\" font-size=\"14.00\" fill=\"#000000\">samples = 718</text>\n",
       "<text text-anchor=\"middle\" x=\"452.6152\" y=\"-99.8\" font-family=\"Helvetica,sans-Serif\" font-size=\"14.00\" fill=\"#000000\">value = 4.272</text>\n",
       "</g>\n",
       "<!-- 2&#45;&gt;6 -->\n",
       "<g id=\"edge10\" class=\"edge\">\n",
       "<title>2&#45;&gt;6</title>\n",
       "<path fill=\"none\" stroke=\"#000000\" d=\"M365.1417,-185.8089C380.1809,-174.1506 397.1369,-161.0064 412.089,-149.4157\"/>\n",
       "<polygon fill=\"#000000\" stroke=\"#000000\" points=\"414.4055,-152.0485 420.1646,-143.1555 410.1168,-146.5161 414.4055,-152.0485\"/>\n",
       "</g>\n",
       "<!-- 9 -->\n",
       "<g id=\"node9\" class=\"node\">\n",
       "<title>9</title>\n",
       "<path fill=\"#eca470\" stroke=\"#000000\" d=\"M364.5605,-50C364.5605,-50 280.67,-50 280.67,-50 274.67,-50 268.67,-44 268.67,-38 268.67,-38 268.67,-12 268.67,-12 268.67,-6 274.67,0 280.67,0 280.67,0 364.5605,0 364.5605,0 370.5605,0 376.5605,-6 376.5605,-12 376.5605,-12 376.5605,-38 376.5605,-38 376.5605,-44 370.5605,-50 364.5605,-50\"/>\n",
       "<text text-anchor=\"middle\" x=\"322.6152\" y=\"-34.8\" font-family=\"Helvetica,sans-Serif\" font-size=\"14.00\" fill=\"#000000\">mse = 0.983</text>\n",
       "<text text-anchor=\"middle\" x=\"322.6152\" y=\"-20.8\" font-family=\"Helvetica,sans-Serif\" font-size=\"14.00\" fill=\"#000000\">samples = 625</text>\n",
       "<text text-anchor=\"middle\" x=\"322.6152\" y=\"-6.8\" font-family=\"Helvetica,sans-Serif\" font-size=\"14.00\" fill=\"#000000\">value = 3.455</text>\n",
       "</g>\n",
       "<!-- 5&#45;&gt;9 -->\n",
       "<g id=\"edge8\" class=\"edge\">\n",
       "<title>5&#45;&gt;9</title>\n",
       "<path fill=\"none\" stroke=\"#000000\" d=\"M323.2711,-85.9947C323.1811,-77.6273 323.0837,-68.5643 322.9921,-60.0478\"/>\n",
       "<polygon fill=\"#000000\" stroke=\"#000000\" points=\"326.4916,-59.9758 322.8842,-50.014 319.492,-60.0511 326.4916,-59.9758\"/>\n",
       "</g>\n",
       "<!-- 10 -->\n",
       "<g id=\"node10\" class=\"node\">\n",
       "<title>10</title>\n",
       "<path fill=\"#f4c8a8\" stroke=\"#000000\" d=\"M489.5605,-50C489.5605,-50 405.67,-50 405.67,-50 399.67,-50 393.67,-44 393.67,-38 393.67,-38 393.67,-12 393.67,-12 393.67,-6 399.67,0 405.67,0 405.67,0 489.5605,0 489.5605,0 495.5605,0 501.5605,-6 501.5605,-12 501.5605,-12 501.5605,-38 501.5605,-38 501.5605,-44 495.5605,-50 489.5605,-50\"/>\n",
       "<text text-anchor=\"middle\" x=\"447.6152\" y=\"-34.8\" font-family=\"Helvetica,sans-Serif\" font-size=\"14.00\" fill=\"#000000\">mse = 0.546</text>\n",
       "<text text-anchor=\"middle\" x=\"447.6152\" y=\"-20.8\" font-family=\"Helvetica,sans-Serif\" font-size=\"14.00\" fill=\"#000000\">samples = 941</text>\n",
       "<text text-anchor=\"middle\" x=\"447.6152\" y=\"-6.8\" font-family=\"Helvetica,sans-Serif\" font-size=\"14.00\" fill=\"#000000\">value = 2.63</text>\n",
       "</g>\n",
       "<!-- 5&#45;&gt;10 -->\n",
       "<g id=\"edge9\" class=\"edge\">\n",
       "<title>5&#45;&gt;10</title>\n",
       "<path fill=\"none\" stroke=\"#000000\" d=\"M366.289,-85.9947C379.1618,-76.3401 393.2697,-65.7592 406.0681,-56.1604\"/>\n",
       "<polygon fill=\"#000000\" stroke=\"#000000\" points=\"408.3632,-58.8141 414.2632,-50.014 404.1632,-53.2141 408.3632,-58.8141\"/>\n",
       "</g>\n",
       "</g>\n",
       "</svg>\n"
      ],
      "text/plain": [
       "<graphviz.files.Source at 0x12397fe10>"
      ]
     },
     "execution_count": 11,
     "metadata": {},
     "output_type": "execute_result"
    }
   ],
   "source": [
    "from sklearn.tree import DecisionTreeRegressor\n",
    "tree = DecisionTreeRegressor(max_depth=3, max_leaf_nodes=6)\n",
    "tree.fit(X_train, y_train)\n",
    "\n",
    "export_graphviz(\n",
    "        tree,\n",
    "        out_file=\"./regression_tree.dot\",\n",
    "        feature_names=[\"x\"+str(i) for i in range(1,9)],\n",
    "        rounded=True,\n",
    "        filled=True\n",
    "    )\n",
    "Source.from_file(\"./regression_tree.dot\")"
   ]
  },
  {
   "cell_type": "markdown",
   "metadata": {},
   "source": [
    "***\n",
    "\n",
    "## Question importante: comment choisir les hyperparamètres ?"
   ]
  },
  {
   "cell_type": "markdown",
   "metadata": {},
   "source": [
    "On ne peut pas simplement essayer différentes hyperparamètres et consulter la performance sur `X_test`. Si on fait ça, on va overfit le `X_test` !\n",
    "\n",
    "Il faut choisir les hyperparamètres par validation croisée ($k$-fold cross-validation)."
   ]
  },
  {
   "cell_type": "code",
   "execution_count": null,
   "metadata": {},
   "outputs": [],
   "source": []
  },
  {
   "cell_type": "markdown",
   "metadata": {},
   "source": [
    "ci-dessous les perfs du meilleur modèle (sur chacun des 10 folds):"
   ]
  },
  {
   "cell_type": "code",
   "execution_count": 58,
   "metadata": {},
   "outputs": [
    {
     "data": {
      "text/plain": [
       "[0.3967812850061739,\n",
       " 0.41345941139209036,\n",
       " 0.400720122410235,\n",
       " 0.47374972605831284,\n",
       " 0.38450011085565255,\n",
       " 0.4202797996579079,\n",
       " 0.4043485602541037,\n",
       " 0.422875591800359,\n",
       " 0.4075115015096375,\n",
       " 0.3906582167179846]"
      ]
     },
     "execution_count": 58,
     "metadata": {},
     "output_type": "execute_result"
    }
   ],
   "source": [
    "[-v[tree_search.best_index_] for (k,v) in tree_search.cv_results_.items() if k.startswith('split')]"
   ]
  },
  {
   "cell_type": "markdown",
   "metadata": {},
   "source": [
    "La moyenne de ces MSE est directement accessible:"
   ]
  },
  {
   "cell_type": "code",
   "execution_count": 59,
   "metadata": {},
   "outputs": [
    {
     "data": {
      "text/plain": [
       "0.41148843256624573"
      ]
     },
     "execution_count": 59,
     "metadata": {},
     "output_type": "execute_result"
    }
   ],
   "source": [
    "-tree_search.best_score_"
   ]
  },
  {
   "cell_type": "markdown",
   "metadata": {},
   "source": [
    "Les meilleurs hyperparamètres:"
   ]
  },
  {
   "cell_type": "code",
   "execution_count": null,
   "metadata": {},
   "outputs": [],
   "source": [
    "tree_search.best_params_"
   ]
  },
  {
   "cell_type": "markdown",
   "metadata": {},
   "source": [
    "La fonction `GridSearchCV` prend les meilleurs hyperparamètres et les utilise pour entrainer le modèle sur tout `X_train`. On accède au modèle final avec `tree_search.best_estimator_`:"
   ]
  },
  {
   "cell_type": "code",
   "execution_count": null,
   "metadata": {},
   "outputs": [],
   "source": []
  },
  {
   "cell_type": "markdown",
   "metadata": {},
   "source": [
    "Le modèle overfit certes, mais le MSE sur le test est très proche du MSE calculé par cross-validation. Donc on arrive bien à prévoir la capacité du modèle à généraliser."
   ]
  },
  {
   "cell_type": "markdown",
   "metadata": {},
   "source": [
    "## c) Entraîner un random forest"
   ]
  },
  {
   "cell_type": "markdown",
   "metadata": {},
   "source": [
    "Ne touchez à aucun hyperparamètre dans un premier temps."
   ]
  },
  {
   "cell_type": "code",
   "execution_count": null,
   "metadata": {},
   "outputs": [],
   "source": []
  },
  {
   "cell_type": "markdown",
   "metadata": {},
   "source": [
    "Comme attendu, le modèle overfit beaucoup.\n",
    "\n",
    "Grossièrement, un random forest est une moyenne d'un grand nombre d'arbres de décision. Les hyperparamètres sont donc très similaires aux précédents (il faut en plus choisir le nombre d'arbres `n_estimators`)."
   ]
  },
  {
   "cell_type": "code",
   "execution_count": null,
   "metadata": {},
   "outputs": [],
   "source": []
  },
  {
   "cell_type": "code",
   "execution_count": 64,
   "metadata": {},
   "outputs": [
    {
     "data": {
      "text/plain": [
       "[0.31412747224478743,\n",
       " 0.33240025878389157,\n",
       " 0.3205169171798233,\n",
       " 0.35747842327414614,\n",
       " 0.31595881523786473,\n",
       " 0.3494175731191536,\n",
       " 0.31592927905735,\n",
       " 0.3746973167349527,\n",
       " 0.30656018536020563,\n",
       " 0.31199181796390957]"
      ]
     },
     "execution_count": 64,
     "metadata": {},
     "output_type": "execute_result"
    }
   ],
   "source": [
    "[-v[rf_search.best_index_] for (k,v) in rf_search.cv_results_.items() if k.startswith('split')]"
   ]
  },
  {
   "cell_type": "code",
   "execution_count": 65,
   "metadata": {},
   "outputs": [
    {
     "data": {
      "text/plain": [
       "0.3299078058956084"
      ]
     },
     "execution_count": 65,
     "metadata": {},
     "output_type": "execute_result"
    }
   ],
   "source": [
    "-rf_search.best_score_"
   ]
  },
  {
   "cell_type": "code",
   "execution_count": null,
   "metadata": {},
   "outputs": [],
   "source": [
    "rf_search.best_params_"
   ]
  },
  {
   "cell_type": "code",
   "execution_count": 67,
   "metadata": {},
   "outputs": [
    {
     "name": "stdout",
     "output_type": "stream",
     "text": [
      "MSE: train: 0.24940160680121298 test: 0.33605346214901327\n"
     ]
    }
   ],
   "source": [
    "rf = rf_search.best_estimator_\n",
    "print('MSE:', 'train:', mean_squared_error(y_train, rf.predict(X_train)),\n",
    "              'test:', mean_squared_error(y_test, rf.predict(X_test))\n",
    "     )"
   ]
  },
  {
   "cell_type": "markdown",
   "metadata": {},
   "source": [
    "2ème tentative en raffinant ce qu'on a trouvé"
   ]
  },
  {
   "cell_type": "code",
   "execution_count": null,
   "metadata": {},
   "outputs": [],
   "source": []
  },
  {
   "cell_type": "code",
   "execution_count": 69,
   "metadata": {},
   "outputs": [
    {
     "data": {
      "text/plain": [
       "[0.28197782081362294,\n",
       " 0.2916967889629732,\n",
       " 0.27348200022477076,\n",
       " 0.3094498074419222,\n",
       " 0.27303765168208033,\n",
       " 0.2978301724111948,\n",
       " 0.272525493710379,\n",
       " 0.3253057128965016,\n",
       " 0.2531161937171129,\n",
       " 0.2663949656702875]"
      ]
     },
     "execution_count": 69,
     "metadata": {},
     "output_type": "execute_result"
    }
   ],
   "source": [
    "[-v[rf_search.best_index_] for (k,v) in rf_search.cv_results_.items() if k.startswith('split')]"
   ]
  },
  {
   "cell_type": "code",
   "execution_count": 70,
   "metadata": {},
   "outputs": [
    {
     "data": {
      "text/plain": [
       "0.28448166075308456"
      ]
     },
     "execution_count": 70,
     "metadata": {},
     "output_type": "execute_result"
    }
   ],
   "source": [
    "-rf_search.best_score_"
   ]
  },
  {
   "cell_type": "code",
   "execution_count": null,
   "metadata": {},
   "outputs": [],
   "source": [
    "rf_search.best_params_"
   ]
  },
  {
   "cell_type": "code",
   "execution_count": 73,
   "metadata": {},
   "outputs": [
    {
     "name": "stdout",
     "output_type": "stream",
     "text": [
      "MSE: train: 0.14317293137433595 test: 0.28511666703503513\n"
     ]
    }
   ],
   "source": [
    "rf = rf_search.best_estimator_\n",
    "print('MSE:', 'train:', mean_squared_error(y_train, rf.predict(X_train)),\n",
    "              'test:', mean_squared_error(y_test, rf.predict(X_test))\n",
    "     )"
   ]
  },
  {
   "cell_type": "markdown",
   "metadata": {},
   "source": [
    "On a un MSE en cross-val sur le train et un MSE sur le test proches de $0.285$, c'est bien !\n",
    "\n",
    "En tunant un peu plus j'arrive à un MSE de $0.260$ (sur le private)."
   ]
  },
  {
   "cell_type": "markdown",
   "metadata": {},
   "source": [
    "## d) Entraîner un xgboost"
   ]
  },
  {
   "cell_type": "markdown",
   "metadata": {},
   "source": [
    "Les arbres boostés ont été utilisés pour remporter de nombreux Kaggle, on est quasi sûr d'avoir un meilleur MSE.\n",
    "\n",
    "En tunant légèrement j'ai un MSE de $0.220$ sur le private."
   ]
  },
  {
   "cell_type": "code",
   "execution_count": null,
   "metadata": {},
   "outputs": [],
   "source": []
  },
  {
   "cell_type": "markdown",
   "metadata": {},
   "source": [
    "***"
   ]
  },
  {
   "cell_type": "markdown",
   "metadata": {},
   "source": [
    "Le modèle Lasso permet de sélectionner des variables, une forêt aléatoire produit une prédiction comme étant la moyenne d'arbres de régression. Et si on mélangeait les deux ?"
   ]
  },
  {
   "cell_type": "markdown",
   "metadata": {},
   "source": [
    "# Exercice 2: Lasso et random forests"
   ]
  },
  {
   "cell_type": "markdown",
   "metadata": {},
   "source": [
    "## a) calculer soi-même la moyenne des prédictions des arbres de la forêt aléatoire\n",
    "\n",
    "C'est peut-être inutile mais ça permet de s'assurer que la prédiction d'une forêt aléatoire est bien issue de la moyenne des prédictions d'un ensemble d'arbre de régression."
   ]
  },
  {
   "cell_type": "code",
   "execution_count": null,
   "metadata": {},
   "outputs": [],
   "source": []
  },
  {
   "cell_type": "markdown",
   "metadata": {},
   "source": [
    "## b) pondérer les arbres à l'aide d'une régression linéaire\n",
    "\n",
    "La forêt aléatoire est une façon de créer de nouvelles features, 100 exactement qu'on utilise pour caler une régression linéaire. A vous de jouer."
   ]
  },
  {
   "cell_type": "code",
   "execution_count": null,
   "metadata": {},
   "outputs": [],
   "source": []
  },
  {
   "cell_type": "markdown",
   "metadata": {},
   "source": [
    "## c) que se passe-t-il si on remplace la régression linéaire par un Lasso ?\n",
    "\n",
    "Petit rappel : le [Lasso](https://scikit-learn.org/stable/modules/generated/sklearn.linear_model.Lasso.html) est une façon de sélectionner les variables."
   ]
  },
  {
   "cell_type": "code",
   "execution_count": null,
   "metadata": {},
   "outputs": [],
   "source": []
  },
  {
   "cell_type": "markdown",
   "metadata": {},
   "source": [
    "## d) tracer l'évolution de la performance et du nombre d'arbres en fonction de alpha"
   ]
  },
  {
   "cell_type": "code",
   "execution_count": null,
   "metadata": {},
   "outputs": [],
   "source": []
  }
 ],
 "metadata": {
  "kernelspec": {
   "display_name": "Python 3",
   "language": "python",
   "name": "python3"
  },
  "language_info": {
   "codemirror_mode": {
    "name": "ipython",
    "version": 3
   },
   "file_extension": ".py",
   "mimetype": "text/x-python",
   "name": "python",
   "nbconvert_exporter": "python",
   "pygments_lexer": "ipython3",
   "version": "3.6.2"
  }
 },
 "nbformat": 4,
 "nbformat_minor": 2
}
